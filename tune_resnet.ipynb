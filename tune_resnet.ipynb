{
 "cells": [
  {
   "cell_type": "code",
   "execution_count": 1,
   "metadata": {
    "collapsed": true
   },
   "outputs": [],
   "source": [
    "import os\n",
    "\n",
    "from pathlib import Path\n",
    "from datetime import datetime\n",
    "from functools import partial\n",
    "\n",
    "import torch\n",
    "\n",
    "from torchvision import datasets, transforms\n",
    "\n",
    "from torch.utils.data import DataLoader\n",
    "from torch.utils.data import random_split\n",
    "\n",
    "from torchmetrics import Accuracy, Precision, Recall\n",
    "\n",
    "from resnet import TorchModel, ResNet, ResNet34, ResNet50\n",
    "from callback import CompositeCallback, ClassificationReporter, Profiler, Saver, DefaultCallback\n",
    "from plotting import matplotlib_imshow\n",
    "\n",
    "from ray import tune\n",
    "from ray.tune import CLIReporter\n",
    "from ray.tune.schedulers import ASHAScheduler"
   ]
  },
  {
   "cell_type": "code",
   "execution_count": null,
   "outputs": [],
   "source": [
    "cwd = Path(os.getcwd())\n",
    "\n",
    "\n",
    "train_dir = cwd / \"imagenette2-320\" / \"train\"\n",
    "test_dir = cwd / \"imagenette2-320\" / \"test\"\n",
    "\n",
    "tsfm_train = transforms.Compose([\n",
    "    transforms.CenterCrop(size=(224, 224)),\n",
    "    transforms.RandomHorizontalFlip(p=0.5),\n",
    "    transforms.ToTensor(),\n",
    "    transforms.Normalize(mean=[0.485, 0.456, 0.406], std=[0.229, 0.224, 0.225]),\n",
    "])\n",
    "\n",
    "tsfm_test = transforms.Compose([\n",
    "    transforms.CenterCrop(size=(224, 224)),\n",
    "    transforms.ToTensor(),\n",
    "    transforms.Normalize(mean=[0.485, 0.456, 0.406], std=[0.229, 0.224, 0.225]),\n",
    "])\n",
    "\n",
    "\n",
    "trainset = datasets.ImageFolder(root=train_dir, transform=tsfm_train)\n",
    "testset = datasets.ImageFolder(root=test_dir, transform=tsfm_test)\n",
    "\n",
    "assert len(trainset.classes) == len(testset.classes)\n",
    "\n",
    "classes = trainset.classes\n",
    "num_classes = len(classes)\n",
    "\n",
    "card = int(len(trainset) * 0.8)\n",
    "trainset, valset = random_split(trainset, [card, len(trainset) - card])"
   ],
   "metadata": {
    "collapsed": false,
    "pycharm": {
     "name": "#%%\n"
    }
   }
  },
  {
   "cell_type": "code",
   "execution_count": null,
   "outputs": [],
   "source": [
    "trainloader = DataLoader(dataset=trainset, batch_size=32, shuffle=True)\n",
    "testloader = DataLoader(dataset=testset, batch_size=32, shuffle=True)\n",
    "valloader = DataLoader(dataset=valset, batch_size=5, shuffle=True)\n",
    "\n",
    "trainloader.classes, testloader.classes, valloader.classes = classes, classes, classes"
   ],
   "metadata": {
    "collapsed": false,
    "pycharm": {
     "name": "#%%\n"
    }
   }
  },
  {
   "cell_type": "code",
   "execution_count": null,
   "outputs": [],
   "source": [
    "tune_dir = cwd / \"tune\"\n",
    "\n",
    "max_num_epochs = 1_000\n",
    "num_samples = 10\n",
    "gpus_per_trial = 2\n",
    "\n",
    "\n",
    "config = {\n",
    "    \"arch\": [ResNet34(num_classes), ResNet50(num_classes)],\n",
    "    \"lr\": tune.loguniform(1e-4, 1e-1),\n",
    "    \"batch_size\": tune.choice([2, 4, 8, 16, 32, 64])\n",
    "}\n",
    "scheduler = ASHAScheduler(\n",
    "    metric=\"loss\",\n",
    "    mode=\"min\",\n",
    "    max_t=max_num_epochs,\n",
    "    grace_period=1,\n",
    "    reduction_factor=2\n",
    ")\n",
    "reporter = CLIReporter(\n",
    "    metric_columns=[\"loss\", \"accuracy\", \"training_iteration\"]\n",
    ")\n",
    "result = tune.run(\n",
    "    partial(torchmodel.train, tune=True),\n",
    "    resources_per_trial={\"cpu\": 1, \"gpu\": gpus_per_trial},\n",
    "    config=config,\n",
    "    num_samples=num_samples,\n",
    "    scheduler=scheduler,\n",
    "    progress_reporter=reporter\n",
    ")\n"
   ],
   "metadata": {
    "collapsed": false,
    "pycharm": {
     "name": "#%%\n"
    }
   }
  },
  {
   "cell_type": "code",
   "execution_count": null,
   "outputs": [],
   "source": [
    "def tune(config, trainloader, valloader, checkpoint_dir=None):\n",
    "    model = ResNet(config[\"block_cls\"], [config[\"l1\"], config[\"l2\"], config[\"l3\"], config[\"l4\"]], num_classes=10)\n",
    "    criterion = torch.nn.CrossEntropyLoss(reduction=\"sum\")\n",
    "    optimizer = torch.optim.SGD(model.parameters(), lr=config[\"lr\"], momentum=0.9)\n",
    "\n",
    "    torchmodel = TorchModel(model, optimizer, criterion)\n",
    "    train_info, val_info = torchmodel.train(trainloader, valloader, epochs=10_000)\n",
    "\n",
    "\n",
    "    with tune.checkpoint_dir(epoch) as checkpoint_dir:\n",
    "        path = os.path.join(checkpoint_dir, \"checkpoint\")\n",
    "        torch.save((net.state_dict(), optimizer.state_dict()), path)\n",
    "\n",
    "        tune.report(loss=(val_loss / val_steps), accuracy=correct / total)"
   ],
   "metadata": {
    "collapsed": false,
    "pycharm": {
     "name": "#%%\n"
    }
   }
  }
 ],
 "metadata": {
  "kernelspec": {
   "display_name": "Python 3 (ipykernel)",
   "language": "python",
   "name": "python3"
  },
  "language_info": {
   "codemirror_mode": {
    "name": "ipython",
    "version": 3
   },
   "file_extension": ".py",
   "mimetype": "text/x-python",
   "name": "python",
   "nbconvert_exporter": "python",
   "pygments_lexer": "ipython3",
   "version": "3.9.7"
  }
 },
 "nbformat": 4,
 "nbformat_minor": 1
}