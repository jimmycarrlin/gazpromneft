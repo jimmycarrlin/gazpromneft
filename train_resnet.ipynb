{
 "cells": [
  {
   "cell_type": "code",
   "execution_count": 1,
   "outputs": [],
   "source": [
    "import os\n",
    "\n",
    "from pathlib import Path\n",
    "from datetime import datetime\n",
    "\n",
    "import matplotlib.pyplot as plt\n",
    "\n",
    "import torch\n",
    "\n",
    "from torchvision import datasets, transforms\n",
    "\n",
    "from torch.utils.data import DataLoader\n",
    "from torch.utils.data import random_split\n",
    "\n",
    "from torchmetrics import Accuracy, Precision, Recall\n",
    "\n",
    "from source.resnet import TorchModel, ResNet34\n",
    "from source.callback import CompositeCallback, ClassificationReporter, Profiler, Saver, DefaultCallback\n",
    "from source.plotting import matplotlib_imshow"
   ],
   "metadata": {
    "collapsed": false,
    "pycharm": {
     "name": "#%%\n"
    }
   }
  },
  {
   "cell_type": "code",
   "execution_count": 2,
   "metadata": {
    "collapsed": true
   },
   "outputs": [],
   "source": [
    "cwd = Path(os.getcwd())\n",
    "\n",
    "\n",
    "train_dir = cwd / \"imagenette2-320\" / \"train\"\n",
    "test_dir = cwd / \"imagenette2-320\" / \"test\"\n",
    "\n",
    "tsfm_train = transforms.Compose([\n",
    "    transforms.CenterCrop(size=(224, 224)),\n",
    "    transforms.RandomHorizontalFlip(p=0.5),\n",
    "    transforms.ToTensor(),\n",
    "    transforms.Normalize(mean=[0.485, 0.456, 0.406], std=[0.229, 0.224, 0.225]),\n",
    "])\n",
    "\n",
    "tsfm_test = transforms.Compose([\n",
    "    transforms.CenterCrop(size=(224, 224)),\n",
    "    transforms.ToTensor(),\n",
    "    transforms.Normalize(mean=[0.485, 0.456, 0.406], std=[0.229, 0.224, 0.225]),\n",
    "])\n",
    "\n",
    "\n",
    "trainset = datasets.ImageFolder(root=train_dir, transform=tsfm_train)\n",
    "testset = datasets.ImageFolder(root=test_dir, transform=tsfm_test)\n",
    "\n",
    "assert len(trainset.classes) == len(testset.classes)\n",
    "\n",
    "classes = trainset.classes\n",
    "num_classes = len(classes)\n",
    "\n",
    "card = int(len(trainset) * 0.8)\n",
    "trainset, valset = random_split(trainset, [card, len(trainset) - card])"
   ]
  },
  {
   "cell_type": "code",
   "execution_count": 3,
   "outputs": [],
   "source": [
    "trainloader = DataLoader(dataset=trainset, batch_size=32, shuffle=True)\n",
    "testloader = DataLoader(dataset=testset, batch_size=32, shuffle=True)\n",
    "valloader = DataLoader(dataset=valset, batch_size=16, shuffle=True)\n",
    "\n",
    "trainloader.classes, testloader.classes, valloader.classes = classes, classes, classes"
   ],
   "metadata": {
    "collapsed": false,
    "pycharm": {
     "name": "#%%\n"
    }
   }
  },
  {
   "cell_type": "code",
   "execution_count": 4,
   "outputs": [
    {
     "data": {
      "text/plain": "Epoch loop:   0%|          | 0/1 [00:00<?, ?epoch/s]",
      "application/vnd.jupyter.widget-view+json": {
       "version_major": 2,
       "version_minor": 0,
       "model_id": "2373c6b6d80e4351bde56a0676cbcd25"
      }
     },
     "metadata": {},
     "output_type": "display_data"
    },
    {
     "data": {
      "text/plain": "Batch loop:   0%|          | 0/2 [00:00<?, ?batch/s]",
      "application/vnd.jupyter.widget-view+json": {
       "version_major": 2,
       "version_minor": 0,
       "model_id": "0f01bfdfc60846d9aec89d93550f5405"
      }
     },
     "metadata": {},
     "output_type": "display_data"
    },
    {
     "data": {
      "text/plain": "((tensor([1.2313]), [tensor(0.5000), tensor(0.5000), tensor(0.5000)]),\n (tensor([0.7010]),\n  [tensor(0.4667), tensor(0.4667), tensor(0.4667)],\n  <Figure size 1296x518.4 with 5 Axes>))"
     },
     "execution_count": 4,
     "metadata": {},
     "output_type": "execute_result"
    }
   ],
   "source": [
    "model = ResNet34(num_classes=10)\n",
    "criterion = torch.nn.CrossEntropyLoss(reduction=\"sum\")\n",
    "optimizer = torch.optim.Adam(model.parameters(), lr=0.001)\n",
    "metrics = [Accuracy(), Precision(), Recall()]\n",
    "\n",
    "\n",
    "model_repr = f\"{model.extra_repr()}\"\n",
    "time = datetime.now().strftime(\"%b%d_%H-%M-%S\")\n",
    "\n",
    "log_dir = cwd / \"log\" / model_repr / time\n",
    "save_dir = log_dir\n",
    "\n",
    "callback = CompositeCallback([\n",
    "    ClassificationReporter(log_dir),\n",
    "    Profiler.make_default(log_dir),\n",
    "    Saver(save_dir)\n",
    "])\n",
    "\n",
    "\n",
    "torchmodel = TorchModel(model, optimizer, criterion, metrics, callback)\n",
    "torchmodel.train(trainloader, valloader, epochs=10_000)"
   ],
   "metadata": {
    "collapsed": false,
    "pycharm": {
     "name": "#%%\n"
    }
   }
  },
  {
   "cell_type": "code",
   "execution_count": 5,
   "outputs": [
    {
     "name": "stdout",
     "output_type": "stream",
     "text": [
      "Loss: tensor([0.6866])\n",
      "AccuracyTop1: tensor(0.5556)\n",
      "PrecisionTop1: tensor(0.5556)\n",
      "RecallTop1: tensor(0.5556)\n"
     ]
    }
   ],
   "source": [
    "test_info = torchmodel.test(testloader)\n",
    "\n",
    "\n",
    "print(f\"Loss:\", test_info[0])\n",
    "\n",
    "for i, metric in enumerate(torchmodel.metrics):\n",
    "    metric_name = type(metric).__name__\n",
    "    print(f\"{metric_name}Top{metric.top_k}:\", test_info[1][i])\n",
    "\n",
    "\n",
    "# To view in Tensorboard\n",
    "test_dir = cwd / \"log\" / model_repr / time / \"test\"\n",
    "\n",
    "reporter = ClassificationReporter(test_dir)\n",
    "reporter.report(torchmodel, test_info)"
   ],
   "metadata": {
    "collapsed": false,
    "pycharm": {
     "name": "#%%\n"
    }
   }
  }
 ],
 "metadata": {
  "kernelspec": {
   "display_name": "Python 3 (ipykernel)",
   "language": "python",
   "name": "python3"
  },
  "language_info": {
   "codemirror_mode": {
    "name": "ipython",
    "version": 3
   },
   "file_extension": ".py",
   "mimetype": "text/x-python",
   "name": "python",
   "nbconvert_exporter": "python",
   "pygments_lexer": "ipython3",
   "version": "3.9.7"
  }
 },
 "nbformat": 4,
 "nbformat_minor": 1
}